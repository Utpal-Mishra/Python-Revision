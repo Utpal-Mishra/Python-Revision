{
  "nbformat": 4,
  "nbformat_minor": 0,
  "metadata": {
    "colab": {
      "name": "PythonPracticeQuestions.ipynb",
      "provenance": [],
      "authorship_tag": "ABX9TyMVjBX0Z1PWYFFKQSahTX6B",
      "include_colab_link": true
    },
    "kernelspec": {
      "name": "python3",
      "display_name": "Python 3"
    },
    "language_info": {
      "name": "python"
    }
  },
  "cells": [
    {
      "cell_type": "markdown",
      "metadata": {
        "id": "view-in-github",
        "colab_type": "text"
      },
      "source": [
        "<a href=\"https://colab.research.google.com/github/Utpal-Mishra/Python-Revision/blob/main/PythonPracticeQuestions.ipynb\" target=\"_parent\"><img src=\"https://colab.research.google.com/assets/colab-badge.svg\" alt=\"Open In Colab\"/></a>"
      ]
    },
    {
      "cell_type": "markdown",
      "metadata": {
        "id": "uLCMillv0NVX"
      },
      "source": [
        "# Simple Python Programs"
      ]
    },
    {
      "cell_type": "markdown",
      "metadata": {
        "id": "bsSQJBNw0R-Q"
      },
      "source": [
        "### Python Program to Calculate the Average of Numbers in a Given List"
      ]
    },
    {
      "cell_type": "code",
      "metadata": {
        "colab": {
          "base_uri": "https://localhost:8080/"
        },
        "id": "agSu8FDB0Qvn",
        "outputId": "796b778b-fb60-4a60-9e8b-7e589fcef331"
      },
      "source": [
        "n = [int(i) for i in input(\"Enter a list of numbers:\\n\").split()]\n",
        "print(\"Obtained List: \", n)"
      ],
      "execution_count": null,
      "outputs": [
        {
          "output_type": "stream",
          "name": "stdout",
          "text": [
            "Enter a list of numbers:\n",
            "1 2 3 4 5\n",
            "Obtained List:  [1, 2, 3, 4, 5]\n"
          ]
        }
      ]
    },
    {
      "cell_type": "code",
      "metadata": {
        "id": "VDBZMzjr29Gf"
      },
      "source": [
        "def sum_len(n):\n",
        "  sum = 0\n",
        "  len = 0\n",
        "\n",
        "  for i in n:\n",
        "    sum+=i\n",
        "    len+=1\n",
        "  return sum, len"
      ],
      "execution_count": null,
      "outputs": []
    },
    {
      "cell_type": "code",
      "metadata": {
        "colab": {
          "base_uri": "https://localhost:8080/"
        },
        "id": "SNoEHlr62EcO",
        "outputId": "32612430-648e-45a9-de79-8e5697d55aee"
      },
      "source": [
        "def main():\n",
        "  sum, len = sum_len(n)\n",
        "  print(\"Average of Numbers in a Given List: \", sum/len)\n",
        "\n",
        "if __name__ == \"__main__\":\n",
        "  main()"
      ],
      "execution_count": null,
      "outputs": [
        {
          "output_type": "stream",
          "name": "stdout",
          "text": [
            "Average of Numbers in a Given List:  3.0\n"
          ]
        }
      ]
    },
    {
      "cell_type": "markdown",
      "metadata": {
        "id": "ARN6lSjS1Zyw"
      },
      "source": [
        "### Python Program to Exchange the Values of Two Numbers Without Using a Temporary Variable"
      ]
    },
    {
      "cell_type": "code",
      "metadata": {
        "colab": {
          "base_uri": "https://localhost:8080/"
        },
        "id": "XncfH6BP1b4I",
        "outputId": "b228fb98-f294-494b-eeb4-974619106aab"
      },
      "source": [
        "m, n = [int(i) for i in input(\"Enter 2 numbers:\\n\").split()]"
      ],
      "execution_count": null,
      "outputs": [
        {
          "name": "stdout",
          "output_type": "stream",
          "text": [
            "Enter 2 numbers:\n",
            "1 2\n"
          ]
        }
      ]
    },
    {
      "cell_type": "code",
      "metadata": {
        "id": "9dPbvv0t5KSU"
      },
      "source": [
        "def swap(m, n):\n",
        "  n, m = m, n \n",
        "  return m, n"
      ],
      "execution_count": null,
      "outputs": []
    },
    {
      "cell_type": "code",
      "metadata": {
        "colab": {
          "base_uri": "https://localhost:8080/"
        },
        "id": "QuufXAsT4IAj",
        "outputId": "5912211f-0a59-42f7-b828-fd16997c8b3f"
      },
      "source": [
        "def main():\n",
        "  print(\"Numbers before swapping [ {} :: {} ]\".format(m, n))\n",
        "\n",
        "  m, n = swap(m, n)\n",
        "  print(\"Numbers before swapping [ {} :: {} ]\".format(m, n))\n",
        "\n",
        "if __name__ == \"__main__\":\n",
        "  main()"
      ],
      "execution_count": null,
      "outputs": [
        {
          "output_type": "stream",
          "name": "stdout",
          "text": [
            "Numbers before swapping [ 1 :: 2 ]\n",
            "Numbers before swapping [ 2 :: 1 ]\n"
          ]
        }
      ]
    },
    {
      "cell_type": "markdown",
      "metadata": {
        "id": "KCBSl5fd1XFn"
      },
      "source": [
        "### Python Program to Read a Number n and Compute n+nn+nnn"
      ]
    },
    {
      "cell_type": "code",
      "metadata": {
        "colab": {
          "base_uri": "https://localhost:8080/"
        },
        "id": "gWgN0UDW1drW",
        "outputId": "9bb6d09b-e93d-46b5-816e-25f4f0d47e56"
      },
      "source": [
        "n = int(input(\"Enter a number: \"))"
      ],
      "execution_count": null,
      "outputs": [
        {
          "name": "stdout",
          "output_type": "stream",
          "text": [
            "Enter a number: 10\n"
          ]
        }
      ]
    },
    {
      "cell_type": "code",
      "metadata": {
        "id": "QuwSpHNC5UgY"
      },
      "source": [
        "def compute(n):\n",
        "  return n + n*n + n*n*n"
      ],
      "execution_count": null,
      "outputs": []
    },
    {
      "cell_type": "code",
      "metadata": {
        "colab": {
          "base_uri": "https://localhost:8080/"
        },
        "id": "0A1TgOGG5cTm",
        "outputId": "7764491f-53fd-474c-facb-cf9f2577da90"
      },
      "source": [
        "def main():\n",
        "  print(\"Computation :: n+nn+nnn : {}\".format(compute(n)))\n",
        "\n",
        "if __name__ == \"__main__\":\n",
        "  main()"
      ],
      "execution_count": null,
      "outputs": [
        {
          "output_type": "stream",
          "name": "stdout",
          "text": [
            "Computation :: n+nn+nnn : 1110\n"
          ]
        }
      ]
    },
    {
      "cell_type": "markdown",
      "metadata": {
        "id": "NqYE0XKQ1VXd"
      },
      "source": [
        "### Python Program to Reverse a Given Number"
      ]
    },
    {
      "cell_type": "code",
      "metadata": {
        "colab": {
          "base_uri": "https://localhost:8080/"
        },
        "id": "lt-NmUeQ1d7q",
        "outputId": "4fb294ae-cce8-422a-c7aa-5c906ee6cbf5"
      },
      "source": [
        "n = int(input(\"Enter a number: \"))"
      ],
      "execution_count": null,
      "outputs": [
        {
          "name": "stdout",
          "output_type": "stream",
          "text": [
            "Enter a number: 12345\n"
          ]
        }
      ]
    },
    {
      "cell_type": "code",
      "metadata": {
        "id": "dGRO79cD54xG"
      },
      "source": [
        "def reverse(n):\n",
        "  temp = 0\n",
        "  l = 0\n",
        "  for i in str(n):\n",
        "    temp+=10**(l)*(int(i))\n",
        "    l+=1\n",
        "  return temp"
      ],
      "execution_count": null,
      "outputs": []
    },
    {
      "cell_type": "code",
      "metadata": {
        "colab": {
          "base_uri": "https://localhost:8080/"
        },
        "id": "0S9Tq7VP6GEj",
        "outputId": "d656f319-646d-4a2a-b556-ac294d5d6f42"
      },
      "source": [
        "def main():\n",
        "  print(\"Reverse of number {} :: {}\".format(n, reverse(n)))\n",
        "  # print(\"Reverse of number {} :: {}\".format(n, n[::-1]))\n",
        "\n",
        "if __name__ == \"__main__\":\n",
        "  main()"
      ],
      "execution_count": null,
      "outputs": [
        {
          "output_type": "stream",
          "name": "stdout",
          "text": [
            "Reverse of number 12345 :: 54321\n"
          ]
        }
      ]
    },
    {
      "cell_type": "markdown",
      "metadata": {
        "id": "Sj1no9r51TmC"
      },
      "source": [
        "### Python Program to Check Whether a Number is Positive or Negative"
      ]
    },
    {
      "cell_type": "code",
      "metadata": {
        "colab": {
          "base_uri": "https://localhost:8080/"
        },
        "id": "ogxUlsCz1eLt",
        "outputId": "211a75bb-fbe1-41cd-eb6b-bf86cbde5606"
      },
      "source": [
        "n = int(input(\" Enter a number: \"))"
      ],
      "execution_count": null,
      "outputs": [
        {
          "name": "stdout",
          "output_type": "stream",
          "text": [
            " Enter a number: -1\n"
          ]
        }
      ]
    },
    {
      "cell_type": "code",
      "metadata": {
        "id": "mm-fS2UEArco"
      },
      "source": [
        "def sign(n):\n",
        "  if n > 0:\n",
        "    return \"Positive Number :: {}\".format(n)\n",
        "  elif n < 0:\n",
        "    return \"Negative Number :: {}\".format(n)\n",
        "  else:\n",
        "    return \"Special Number :: {}\".format(n)"
      ],
      "execution_count": null,
      "outputs": []
    },
    {
      "cell_type": "code",
      "metadata": {
        "colab": {
          "base_uri": "https://localhost:8080/"
        },
        "id": "IvXkwZ9ABWJ4",
        "outputId": "aaea5568-1fed-4c24-a245-e25d0ab2a55b"
      },
      "source": [
        "def main():\n",
        "  print(sign(n))\n",
        "\n",
        "if __name__ == \"__main__\":\n",
        "  main()"
      ],
      "execution_count": null,
      "outputs": [
        {
          "output_type": "stream",
          "name": "stdout",
          "text": [
            "Negative Number :: -1\n"
          ]
        }
      ]
    },
    {
      "cell_type": "markdown",
      "metadata": {
        "id": "Xzvoqg2c1R2D"
      },
      "source": [
        "### Python Program to Take in the Marks of 5 Subjects and Display the Grade"
      ]
    },
    {
      "cell_type": "code",
      "metadata": {
        "colab": {
          "base_uri": "https://localhost:8080/"
        },
        "id": "JTuPdiSu1ec0",
        "outputId": "30b68dbe-8375-4e8c-9394-d91d9eb300c9"
      },
      "source": [
        "s1 = int(input(\"Enter marks for Subject 1: \"))\n",
        "s2 = int(input(\"Enter marks for Subject 2: \"))\n",
        "s3 = int(input(\"Enter marks for Subject 3: \"))\n",
        "s4 = int(input(\"Enter marks for Subject 4: \"))\n",
        "s5 = int(input(\"Enter marks for Subject 5: \"))"
      ],
      "execution_count": null,
      "outputs": [
        {
          "name": "stdout",
          "output_type": "stream",
          "text": [
            "Enter marks for Subject 1: 80\n",
            "Enter marks for Subject 2: 80\n",
            "Enter marks for Subject 3: 85\n",
            "Enter marks for Subject 4: 90\n",
            "Enter marks for Subject 5: 75\n"
          ]
        }
      ]
    },
    {
      "cell_type": "code",
      "metadata": {
        "id": "EBoqWIPUC27q"
      },
      "source": [
        "def average(s1, s2, s3, s4, s5):\n",
        "  return (s1+s2+s3+s4+s5)*100/5\n",
        "\n",
        "def grades(s1, s2, s3, s4, s5):\n",
        "  avg = average(s1, s2, s3, s4, s5)\n",
        "  if avg > 90:\n",
        "    return \"A\"\n",
        "  elif avg < 90 and avg > 80:\n",
        "    return \"B\"\n",
        "  elif avg < 80 and avg > 70:\n",
        "    return \"C\"\n",
        "  elif avg < 70 and avg > 60:\n",
        "    return \"D\"\n",
        "  else:\n",
        "    return \"E\""
      ],
      "execution_count": null,
      "outputs": []
    },
    {
      "cell_type": "code",
      "metadata": {
        "colab": {
          "base_uri": "https://localhost:8080/"
        },
        "id": "goW7901_FFdA",
        "outputId": "bc378785-62bd-4a85-b44f-4c81f179d534"
      },
      "source": [
        "def main():\n",
        "  print(\"Grades for 5 subject :: {}\".format(grades(s1, s2, s3, s4, s5)))\n",
        "\n",
        "if __name__ == \"__main__\":\n",
        "  main()"
      ],
      "execution_count": null,
      "outputs": [
        {
          "output_type": "stream",
          "name": "stdout",
          "text": [
            "Grades for 5 subject :: A\n"
          ]
        }
      ]
    },
    {
      "cell_type": "markdown",
      "metadata": {
        "id": "_VRZtk3J1QHp"
      },
      "source": [
        "### Python Program to Print all Numbers in a Range Divisible by a Given Number"
      ]
    },
    {
      "cell_type": "code",
      "metadata": {
        "colab": {
          "base_uri": "https://localhost:8080/"
        },
        "id": "kw-ofWCb1eqb",
        "outputId": "3dfd363b-5cda-438d-94ba-0bb2e9942d98"
      },
      "source": [
        "n = int(input(\"Enter a number: \"))\n",
        "r1 = int(input(\"\\nSET RANGE: \\nFrom: \"))\n",
        "r2 = int(input(\"To: \"))"
      ],
      "execution_count": null,
      "outputs": [
        {
          "name": "stdout",
          "output_type": "stream",
          "text": [
            "Enter a number: 5\n",
            "\n",
            "SET RANGE: \n",
            "From: 1\n",
            "To: 10\n"
          ]
        }
      ]
    },
    {
      "cell_type": "code",
      "metadata": {
        "id": "Qk3dXyH4RXiN"
      },
      "source": [
        "def multiples(n, r1, r2):\n",
        "  multiples = []\n",
        "  for i in range(r1, r2):\n",
        "    multiples.append(n*i)\n",
        "  return multiples"
      ],
      "execution_count": null,
      "outputs": []
    },
    {
      "cell_type": "code",
      "metadata": {
        "colab": {
          "base_uri": "https://localhost:8080/"
        },
        "id": "64kALgBQQGlx",
        "outputId": "27954687-2e81-4788-de33-353dc1638846"
      },
      "source": [
        "def main():\n",
        "  print(\"Factors of {} in range [{}, {}] :: {}\".format(n, r1, r2, multiples(n, r1, r2)))\n",
        "\n",
        "if __name__ == \"__main__\":\n",
        "  main()"
      ],
      "execution_count": null,
      "outputs": [
        {
          "output_type": "stream",
          "name": "stdout",
          "text": [
            "Factors of 5 in range [1, 10] :: [5, 10, 15, 20, 25, 30, 35, 40, 45]\n"
          ]
        }
      ]
    },
    {
      "cell_type": "markdown",
      "metadata": {
        "id": "5bzLQp321Ouu"
      },
      "source": [
        "### Python Program to Read Two Numbers and Print Their Quotient and Remainder"
      ]
    },
    {
      "cell_type": "code",
      "metadata": {
        "colab": {
          "base_uri": "https://localhost:8080/"
        },
        "id": "z5Le9iGA1e4i",
        "outputId": "f0fcf309-2ae1-4aaa-b13e-6080f9406ebf"
      },
      "source": [
        "d1 = int(input(\"Enter a dividend: \"))\n",
        "d2 = int(input(\"Enter a divisor: \"))"
      ],
      "execution_count": null,
      "outputs": [
        {
          "name": "stdout",
          "output_type": "stream",
          "text": [
            "Enter a dividend: 6\n",
            "Enter a divisor: 3\n"
          ]
        }
      ]
    },
    {
      "cell_type": "code",
      "metadata": {
        "id": "-Qht5r-mUIPn"
      },
      "source": [
        "def division(d1, d2):\n",
        "  q = d1//d2\n",
        "  r = d1%d2\n",
        "  return q, r"
      ],
      "execution_count": null,
      "outputs": []
    },
    {
      "cell_type": "code",
      "metadata": {
        "colab": {
          "base_uri": "https://localhost:8080/"
        },
        "id": "dzb4JRxDUI7c",
        "outputId": "2d3bd026-1f88-4b5b-81bc-bd55009bf957"
      },
      "source": [
        "def main():\n",
        "  q, r = division(d1, d2)\n",
        "  print(\"DIVISON:\\nDivident: {}\\nDivisor: {}\\n\\nQuotient: {}\\nRemainder: {}\".format(d1, d2, q, r))\n",
        "\n",
        "if __name__ == \"__main__\":\n",
        "  main()"
      ],
      "execution_count": null,
      "outputs": [
        {
          "output_type": "stream",
          "name": "stdout",
          "text": [
            "DIVISON:\n",
            "Divident: 6\n",
            "Divisor: 3\n",
            "\n",
            "Quotient: 2\n",
            "Remainder: 0\n"
          ]
        }
      ]
    },
    {
      "cell_type": "markdown",
      "metadata": {
        "id": "oQbLVck61M52"
      },
      "source": [
        "### Python Program to Accept Three Digits and Print all Possible Combinations from the Digits"
      ]
    },
    {
      "cell_type": "code",
      "metadata": {
        "colab": {
          "base_uri": "https://localhost:8080/"
        },
        "id": "-TmxeONZ1fFB",
        "outputId": "22ed9198-54b6-4623-972c-30fbf4a47c55"
      },
      "source": [
        "n = input(\" Enter a number: \")"
      ],
      "execution_count": null,
      "outputs": [
        {
          "name": "stdout",
          "output_type": "stream",
          "text": [
            " Enter a number: 123\n"
          ]
        }
      ]
    },
    {
      "cell_type": "code",
      "metadata": {
        "id": "HOk5-c5fjhiA"
      },
      "source": [
        "def one(n):\n",
        "  one = []\n",
        "  for i in n:\n",
        "    one.append(int(i))\n",
        "  return one\n",
        "\n",
        "def two(n):\n",
        "  two = []\n",
        "  for i in n:\n",
        "    for k in n:\n",
        "      two.append(int(str(i)+str(k)))\n",
        "  return two\n",
        "\n",
        "def three(n):\n",
        "  three = []\n",
        "  for i in n:\n",
        "    for k in n:\n",
        "      for m in n:\n",
        "        three.append(int(str(i)+str(k)+str(m)))\n",
        "  return three"
      ],
      "execution_count": null,
      "outputs": []
    },
    {
      "cell_type": "code",
      "metadata": {
        "colab": {
          "base_uri": "https://localhost:8080/"
        },
        "id": "QsjajJmIl64v",
        "outputId": "90e9f915-9c51-4c3d-b199-3ed305875164"
      },
      "source": [
        "def main():\n",
        "  print(\"ALL POSSIBLE COMBINATIONS\\n\")\n",
        "  print(\"\\nSingle Digit Combinations:\\n\", one(n))\n",
        "  print(\"\\nTwo Digit Combnations:\\n\", two(n))\n",
        "  print(\"\\nThree Digit Combinations:\\n\", three(n))\n",
        "\n",
        "if __name__ == \"__main__\":\n",
        "  main()"
      ],
      "execution_count": null,
      "outputs": [
        {
          "output_type": "stream",
          "name": "stdout",
          "text": [
            "ALL POSSIBLE COMBINATIONS\n",
            "\n",
            "\n",
            "Single Digit Combinations:\n",
            " [1, 2, 3]\n",
            "\n",
            "Two Digit Combnations:\n",
            " [11, 12, 13, 21, 22, 23, 31, 32, 33]\n",
            "\n",
            "Three Digit Combinations:\n",
            " [111, 112, 113, 121, 122, 123, 131, 132, 133, 211, 212, 213, 221, 222, 223, 231, 232, 233, 311, 312, 313, 321, 322, 323, 331, 332, 333]\n"
          ]
        }
      ]
    },
    {
      "cell_type": "markdown",
      "metadata": {
        "id": "2V1kShdE1DBv"
      },
      "source": [
        "### Python Program to Print Odd Numbers Within a Given Range"
      ]
    },
    {
      "cell_type": "code",
      "metadata": {
        "colab": {
          "base_uri": "https://localhost:8080/"
        },
        "id": "nmB_XhkW1EAL",
        "outputId": "1d0413b4-9e23-44d0-deea-10e15c0d9187"
      },
      "source": [
        "print(\"PRINT ODD NUMBERS WITHIN A GIVEN RANGE\\n\")\n",
        "r1 = int(input(\"From: \"))\n",
        "r2 = int(input(\"To  : \"))"
      ],
      "execution_count": null,
      "outputs": [
        {
          "name": "stdout",
          "output_type": "stream",
          "text": [
            "PRINT ODD NUMBERS WITHIN A GIVEN RANGE\n",
            "\n",
            "From: 1\n",
            "To  : 51\n"
          ]
        }
      ]
    },
    {
      "cell_type": "code",
      "metadata": {
        "id": "0qsR9fnKodqa"
      },
      "source": [
        "def odd(r1, r2):\n",
        "  odd = []\n",
        "  for i in range(r1, r2):\n",
        "    if i%2 != 0:\n",
        "      odd.append(i)\n",
        "  return odd"
      ],
      "execution_count": null,
      "outputs": []
    },
    {
      "cell_type": "code",
      "metadata": {
        "colab": {
          "base_uri": "https://localhost:8080/"
        },
        "id": "GPRUiEyLodtu",
        "outputId": "99b38993-0cbc-44b8-a78f-2d8e9175d026"
      },
      "source": [
        "def main():\n",
        "  print(\"Possible Odd Numbers: \", odd(r1, r2))\n",
        "\n",
        "\n",
        "if __name__ == \"__main__\":\n",
        "  main()"
      ],
      "execution_count": null,
      "outputs": [
        {
          "output_type": "stream",
          "name": "stdout",
          "text": [
            "Possible Odd Numbers:  [1, 3, 5, 7, 9, 11, 13, 15, 17, 19, 21, 23, 25, 27, 29, 31, 33, 35, 37, 39, 41, 43, 45, 47, 49]\n"
          ]
        }
      ]
    },
    {
      "cell_type": "markdown",
      "metadata": {
        "id": "IXQFc54E1Ayr"
      },
      "source": [
        "### Python Program to Find the Sum of Digits in a Number"
      ]
    },
    {
      "cell_type": "code",
      "metadata": {
        "colab": {
          "base_uri": "https://localhost:8080/"
        },
        "id": "eU3Ukx6G1FZN",
        "outputId": "3b92088f-da0a-42dd-c588-56c42605e8ee"
      },
      "source": [
        "n = input(\"Enter a number: \")"
      ],
      "execution_count": null,
      "outputs": [
        {
          "name": "stdout",
          "output_type": "stream",
          "text": [
            "Enter a number: 123\n"
          ]
        }
      ]
    },
    {
      "cell_type": "code",
      "metadata": {
        "id": "PcU5MrEQp0KS"
      },
      "source": [
        "def sum(n):\n",
        "  sum = 0\n",
        "  for i in n:\n",
        "    sum += int(i)\n",
        "  return sum"
      ],
      "execution_count": null,
      "outputs": []
    },
    {
      "cell_type": "code",
      "metadata": {
        "colab": {
          "base_uri": "https://localhost:8080/"
        },
        "id": "IJ3OoKhFqAYC",
        "outputId": "7f85d135-3265-4582-d3d8-3449813acc8b"
      },
      "source": [
        "def main():\n",
        "  print(\"Number: {} :: Sum of Digits: {}\".format(n, sum(n)))\n",
        "\n",
        "if __name__ == \"__main__\":\n",
        "  main()"
      ],
      "execution_count": null,
      "outputs": [
        {
          "output_type": "stream",
          "name": "stdout",
          "text": [
            "Number: 123 :: Sum of Digits: 6\n"
          ]
        }
      ]
    },
    {
      "cell_type": "markdown",
      "metadata": {
        "id": "Py44xf5C0-0-"
      },
      "source": [
        "### Python Program to Find the Smallest Divisor of an Integer"
      ]
    },
    {
      "cell_type": "code",
      "metadata": {
        "colab": {
          "base_uri": "https://localhost:8080/"
        },
        "id": "GmpT7d7H1HMv",
        "outputId": "cff69a53-117f-43ad-99a2-a811d7b7d679"
      },
      "source": [
        "n = int(input(\"Enter a number: \"))"
      ],
      "execution_count": null,
      "outputs": [
        {
          "name": "stdout",
          "output_type": "stream",
          "text": [
            "Enter a number: 10\n"
          ]
        }
      ]
    },
    {
      "cell_type": "code",
      "metadata": {
        "id": "lPmw43892bh8"
      },
      "source": [
        "def divisor(n):\n",
        "  for i in range(2, int(n**(1/2))):\n",
        "    if n%i == 0:\n",
        "      return i\n",
        "    else:\n",
        "      continue"
      ],
      "execution_count": null,
      "outputs": []
    },
    {
      "cell_type": "code",
      "metadata": {
        "colab": {
          "base_uri": "https://localhost:8080/"
        },
        "id": "awk17ymz2qdF",
        "outputId": "fcdc12f8-fb53-4444-f549-07d5483d750b"
      },
      "source": [
        "def main():\n",
        "  print(\"Smallest Divisor of {} :: {}\".format(n, divisor(n)))\n",
        "\n",
        "if __name__ == \"__main__\":\n",
        "  main()"
      ],
      "execution_count": null,
      "outputs": [
        {
          "output_type": "stream",
          "name": "stdout",
          "text": [
            "Smallest Divisor of 10 :: 2\n"
          ]
        }
      ]
    },
    {
      "cell_type": "markdown",
      "metadata": {
        "id": "RSrdO7q9088e"
      },
      "source": [
        "### Python Program to Count the Number of Digits in a Number"
      ]
    },
    {
      "cell_type": "code",
      "metadata": {
        "colab": {
          "base_uri": "https://localhost:8080/"
        },
        "id": "4ilfDeWN1Hte",
        "outputId": "1045ef1c-af2e-4d70-93e4-8e2063f61e1b"
      },
      "source": [
        "n = input(\"Enter a number: \")"
      ],
      "execution_count": null,
      "outputs": [
        {
          "name": "stdout",
          "output_type": "stream",
          "text": [
            "Enter a number: 12345\n"
          ]
        }
      ]
    },
    {
      "cell_type": "code",
      "metadata": {
        "id": "W3Io7wxG3NbE"
      },
      "source": [
        "def digits(n):\n",
        "  len = 0\n",
        "  for i in n:\n",
        "    len += 1\n",
        "  return len"
      ],
      "execution_count": null,
      "outputs": []
    },
    {
      "cell_type": "code",
      "metadata": {
        "colab": {
          "base_uri": "https://localhost:8080/"
        },
        "id": "t50HdCbr3Xd8",
        "outputId": "34850c56-6a3f-430c-8eac-33d3ab1d8d34"
      },
      "source": [
        "def main():\n",
        "  print(\"Total Digits in {} :: {}\".format(n, digits(n)))\n",
        "\n",
        "if __name__ == \"__main__\":\n",
        "  main()"
      ],
      "execution_count": null,
      "outputs": [
        {
          "output_type": "stream",
          "name": "stdout",
          "text": [
            "Total Digits in 12345 :: 5\n"
          ]
        }
      ]
    },
    {
      "cell_type": "markdown",
      "metadata": {
        "id": "a53OZ-ZP06wv"
      },
      "source": [
        "### Python Program to Check if a Number is a Palindrome"
      ]
    },
    {
      "cell_type": "code",
      "metadata": {
        "colab": {
          "base_uri": "https://localhost:8080/"
        },
        "id": "g1wOVfHv1H-Q",
        "outputId": "ee431962-9e4c-4064-992b-21b3f3105110"
      },
      "source": [
        "n = input(\"Enter a nummber: \")"
      ],
      "execution_count": null,
      "outputs": [
        {
          "name": "stdout",
          "output_type": "stream",
          "text": [
            "Enter a nummber: 12321\n"
          ]
        }
      ]
    },
    {
      "cell_type": "code",
      "metadata": {
        "id": "ipd_O7u-3vEy"
      },
      "source": [
        "def check(n, m):\n",
        "  return n == m\n",
        "  \n",
        "def palindrome(n):\n",
        "  m = 0\n",
        "  l = 0\n",
        "  for i in n:\n",
        "     m += 10**(l)*(int(i))\n",
        "     l += 1\n",
        "  \n",
        "  return check(n, str(m))"
      ],
      "execution_count": null,
      "outputs": []
    },
    {
      "cell_type": "code",
      "metadata": {
        "colab": {
          "base_uri": "https://localhost:8080/"
        },
        "id": "wdp2yWK05UDd",
        "outputId": "5f5bb16d-ba1e-4e0a-8c6f-ccb1c5fe7bc1"
      },
      "source": [
        "def main():\n",
        "  print(\"Number {} is a Palindrome :: {}\".format(n, palindrome(n)))\n",
        "\n",
        "if __name__ == \"__main__\":\n",
        "  main()"
      ],
      "execution_count": null,
      "outputs": [
        {
          "output_type": "stream",
          "name": "stdout",
          "text": [
            "Number 12321 is a Palindrome :: True\n"
          ]
        }
      ]
    },
    {
      "cell_type": "markdown",
      "metadata": {
        "id": "QrE2Hslr04Z7"
      },
      "source": [
        "### Python Program to Print all Integers that Aren't Divisible by Either 2 or 3 and Lie between 1 and 50."
      ]
    },
    {
      "cell_type": "code",
      "metadata": {
        "colab": {
          "base_uri": "https://localhost:8080/"
        },
        "id": "TKIw9-qK05Ee",
        "outputId": "1da16588-cc7b-40da-f982-14e615e1fa45"
      },
      "source": [
        "print(\"SETTING THE RANGE\\n\")\n",
        "r1 = int(input(\"From: \"))\n",
        "r2 = int(input(\"To  : \"))"
      ],
      "execution_count": null,
      "outputs": [
        {
          "name": "stdout",
          "output_type": "stream",
          "text": [
            "SETTING THE RANGE\n",
            "From: 1\n",
            "To  : 50\n"
          ]
        }
      ]
    },
    {
      "cell_type": "code",
      "metadata": {
        "id": "VgX8dO0o7PJB"
      },
      "source": [
        "def non_multiples(r1, r2):\n",
        "  num = []\n",
        "  for i in range(r1, r2):\n",
        "    if i%2 !=0 and i%3 !=0:\n",
        "      num.append(i)\n",
        "  return num"
      ],
      "execution_count": null,
      "outputs": []
    },
    {
      "cell_type": "code",
      "metadata": {
        "colab": {
          "base_uri": "https://localhost:8080/"
        },
        "id": "QHsjWgpH7p-b",
        "outputId": "a24a5c57-c360-4c4b-fb20-7c104493c786"
      },
      "source": [
        "def main():\n",
        "  print(\"Non-multiples of {} or {} between {} and {} :: {}\".format(2, 3, r1, r2, non_multiples(r1, r2)))\n",
        "\n",
        "if __name__ == \"__main__\":\n",
        "  main()"
      ],
      "execution_count": null,
      "outputs": [
        {
          "output_type": "stream",
          "name": "stdout",
          "text": [
            "Non-multiples of 2 or 3 between 1 and 50 :: [1, 5, 7, 11, 13, 17, 19, 23, 25, 29, 31, 35, 37, 41, 43, 47, 49]\n"
          ]
        }
      ]
    },
    {
      "cell_type": "markdown",
      "metadata": {
        "id": "9K5Q6w4P0suS"
      },
      "source": [
        "### Python Program to Read a Number n And Print the Series \"1+2+…..+n= \""
      ]
    },
    {
      "cell_type": "code",
      "metadata": {
        "colab": {
          "base_uri": "https://localhost:8080/"
        },
        "id": "AqkI_B8F0s7g",
        "outputId": "579e7ef9-fbeb-4b9f-f77b-d9dad26cf153"
      },
      "source": [
        "n = int(input(\"Enter a number: \"))"
      ],
      "execution_count": null,
      "outputs": [
        {
          "name": "stdout",
          "output_type": "stream",
          "text": [
            "Enter a number: 3\n"
          ]
        }
      ]
    },
    {
      "cell_type": "code",
      "metadata": {
        "id": "_pIYb9-P86Jc"
      },
      "source": [
        "def series(n):\n",
        "  if n < 2:\n",
        "    return 1\n",
        "  else: \n",
        "    return n + series(n-1)"
      ],
      "execution_count": null,
      "outputs": []
    },
    {
      "cell_type": "code",
      "metadata": {
        "colab": {
          "base_uri": "https://localhost:8080/"
        },
        "id": "PPuvZS7j9SzR",
        "outputId": "67f3b428-5c5e-40c0-8e5e-78219e1484e8"
      },
      "source": [
        "def main():\n",
        "  print(\"Sum of series : 1+2+…..+n :: {}\".format(series(n)))\n",
        "\n",
        "if __name__ == \"__main__\":\n",
        "  main()"
      ],
      "execution_count": null,
      "outputs": [
        {
          "output_type": "stream",
          "name": "stdout",
          "text": [
            "Sum of series : 1+2+…..+n :: 6\n"
          ]
        }
      ]
    },
    {
      "cell_type": "markdown",
      "metadata": {
        "id": "GWKIGWyV0tHt"
      },
      "source": [
        "### Python Program to Read a Number n and Print the Natural Numbers Summation Pattern"
      ]
    },
    {
      "cell_type": "code",
      "metadata": {
        "colab": {
          "base_uri": "https://localhost:8080/"
        },
        "id": "MdOpg5_w0tVW",
        "outputId": "9e7bbfb8-e8c0-4355-c2ec-f478f626de44"
      },
      "source": [
        "n = int(input(\"Enter a number: \"))"
      ],
      "execution_count": null,
      "outputs": [
        {
          "name": "stdout",
          "output_type": "stream",
          "text": [
            "Enter a number: 7\n"
          ]
        }
      ]
    },
    {
      "cell_type": "code",
      "metadata": {
        "colab": {
          "base_uri": "https://localhost:8080/"
        },
        "id": "rnsAM8AGGgVL",
        "outputId": "ff6a9714-786a-45c8-d827-7e7bf4532d23"
      },
      "source": [
        "def main():\n",
        "  sum = 0\n",
        "  exp = \"\"\n",
        "  for k in range(1, n + 1):\n",
        "    sum += k\n",
        "    exp = exp + str(k) \n",
        "    print(exp + \" = \", sum)\n",
        "    exp = exp + \" + \"\n",
        "\n",
        "if __name__ == \"__main__\":\n",
        "  main()"
      ],
      "execution_count": null,
      "outputs": [
        {
          "output_type": "stream",
          "name": "stdout",
          "text": [
            "1 =  1\n",
            "1 + 2 =  3\n",
            "1 + 2 + 3 =  6\n",
            "1 + 2 + 3 + 4 =  10\n",
            "1 + 2 + 3 + 4 + 5 =  15\n",
            "1 + 2 + 3 + 4 + 5 + 6 =  21\n",
            "1 + 2 + 3 + 4 + 5 + 6 + 7 =  28\n"
          ]
        }
      ]
    },
    {
      "cell_type": "markdown",
      "metadata": {
        "id": "3S4jCI_v0Ssv"
      },
      "source": [
        "### Python Program to Print an Identity Matrix"
      ]
    },
    {
      "cell_type": "code",
      "metadata": {
        "colab": {
          "base_uri": "https://localhost:8080/"
        },
        "id": "Yu2hPIDi0S5d",
        "outputId": "c3d654fd-5d07-4970-fb81-a696fb875b33"
      },
      "source": [
        "n = int(input(\"Enter dimensions of identity matrix: \"))"
      ],
      "execution_count": null,
      "outputs": [
        {
          "name": "stdout",
          "output_type": "stream",
          "text": [
            "Enter dimensions of identity matrix: 3\n"
          ]
        }
      ]
    },
    {
      "cell_type": "code",
      "metadata": {
        "id": "-g0ZscSKNqN9"
      },
      "source": [
        "def matrix(n):\n",
        "  pattern = \"\"\n",
        "  for i in range(n):\n",
        "    for k in range(n):\n",
        "      if i == k:\n",
        "        pattern += \"1  \"\n",
        "      else:\n",
        "        pattern += \"0  \"\n",
        "    pattern += \"\\n\"\n",
        "  return pattern"
      ],
      "execution_count": null,
      "outputs": []
    },
    {
      "cell_type": "code",
      "metadata": {
        "colab": {
          "base_uri": "https://localhost:8080/"
        },
        "id": "TNe23DIKOCy9",
        "outputId": "a0916db3-9f9d-40b9-e3e1-cc4b61455103"
      },
      "source": [
        "def main():\n",
        "  print(\"Identity matrix [{}, {}]\\n\\n{}\".format(n, n, matrix(n)))\n",
        "\n",
        "if __name__ == \"__main__\":\n",
        "  main()"
      ],
      "execution_count": null,
      "outputs": [
        {
          "output_type": "stream",
          "name": "stdout",
          "text": [
            "Identity matrix [3, 3]\n",
            "\n",
            "1  0  0  \n",
            "0  1  0  \n",
            "0  0  1  \n",
            "\n"
          ]
        }
      ]
    },
    {
      "cell_type": "markdown",
      "metadata": {
        "id": "-vCqBOes0TGJ"
      },
      "source": [
        "### Python Program to Print an Inverted Star Pattern"
      ]
    },
    {
      "cell_type": "code",
      "metadata": {
        "id": "UqJ0RhOG0TTm"
      },
      "source": [
        ""
      ],
      "execution_count": null,
      "outputs": []
    },
    {
      "cell_type": "markdown",
      "metadata": {
        "id": "X7S1ZQ0l0Tg1"
      },
      "source": [
        "### Python Program to Read Print Prime Numbers in a Range using Sieve of Eratosthenes"
      ]
    },
    {
      "cell_type": "code",
      "metadata": {
        "colab": {
          "base_uri": "https://localhost:8080/"
        },
        "id": "8XGsHYL60Ts1",
        "outputId": "fa6830a0-4bd0-4aac-82a1-446681a0fd0f"
      },
      "source": [
        "print(\"SET A RANGE\\n\")\n",
        "r1 = int(input(\"From: \"))\n",
        "r2 = int(input(\"To  : \"))"
      ],
      "execution_count": null,
      "outputs": [
        {
          "name": "stdout",
          "output_type": "stream",
          "text": [
            "SET A RANGE\n",
            "\n",
            "From: 1\n",
            "To  : 100\n"
          ]
        }
      ]
    },
    {
      "cell_type": "code",
      "metadata": {
        "id": "6kEPaiWkSOar"
      },
      "source": [
        "def prime(n, r2):\n",
        "  for i in range(2, int(r2**(1/2))):\n",
        "    if n%i == 0:\n",
        "      return n, 0\n",
        "  return n, 1\n",
        "\n",
        "def solve(r1, r2):\n",
        "  out = []\n",
        "  for i in range(r1, r2):\n",
        "    n, x = prime(i, r2)\n",
        "    if x == 1:\n",
        "      out.append(n)\n",
        "  return out"
      ],
      "execution_count": null,
      "outputs": []
    },
    {
      "cell_type": "code",
      "metadata": {
        "colab": {
          "base_uri": "https://localhost:8080/"
        },
        "id": "oLKSSiivaGLC",
        "outputId": "8b8c25c7-8d08-4e36-a713-578f7b68455d"
      },
      "source": [
        "def main():\n",
        "  print(\"Prime number between [{}, {}] :: {}\".format(r1, r2, solve(r1, r2)))\n",
        "\n",
        "if __name__ == \"__main__\":\n",
        "  main()"
      ],
      "execution_count": null,
      "outputs": [
        {
          "output_type": "stream",
          "name": "stdout",
          "text": [
            "Prime number between [1, 100] :: [1, 11, 13, 17, 19, 23, 29, 31, 37, 41, 43, 47, 53, 59, 61, 67, 71, 73, 79, 83, 89, 97]\n"
          ]
        }
      ]
    },
    {
      "cell_type": "markdown",
      "metadata": {
        "id": "702QgIIVXJQt"
      },
      "source": [
        "# Mathematical Functions"
      ]
    },
    {
      "cell_type": "markdown",
      "metadata": {
        "id": "242qXPIGnNV_"
      },
      "source": [
        "### Python Program to Check if a Date is Valid and Print the Incremented Date if it is"
      ]
    },
    {
      "cell_type": "code",
      "metadata": {
        "id": "tMeNxrOsnNjZ",
        "colab": {
          "base_uri": "https://localhost:8080/"
        },
        "outputId": "0a0df035-1b5f-4887-8ab4-33809a8c13c6"
      },
      "source": [
        "dt = input(\"Enter a Date (DD/MM/YYYY): \")"
      ],
      "execution_count": 20,
      "outputs": [
        {
          "name": "stdout",
          "output_type": "stream",
          "text": [
            "Enter a Date (DD/MM/YYYY): 29/2/2004\n"
          ]
        }
      ]
    },
    {
      "cell_type": "code",
      "metadata": {
        "id": "MwQWv1LPvPX0"
      },
      "source": [
        "def feb(dt):\n",
        "  if (dt[1] == 2 and 1 < dt[0] < 29):\n",
        "    print(\"FEBURARY MONTH WITH 28 DAYS: Checked\")\n",
        "  else:\n",
        "    print(\"FEBURARY MONTH WITH 28 DAYS: No, Checked\")\n",
        "\n",
        "\n",
        "def even(dt): \n",
        "  if ((dt[1] == 4 or dt[1] == 6 or dt[1] == 9 or dt[1] == 11) and (0 < dt[0] < 31)):\n",
        "    print(\"MONTHS WITH 30 DAYS: Yes, Checked\")\n",
        "    feb(dt)\n",
        "  else:\n",
        "    print(\"MONTHS WITH 30 DAYS: No, Checked\")\n",
        "\n",
        "\n",
        "def odd(dt):\n",
        "  if ((dt[1] == 1 or dt[1] == 3 or dt[1] == 5 or dt[1] == 7 or dt[1] == 8 or dt[1] == 10 or dt[1] == 12) and (0 < dt[0] < 32)):\n",
        "    print(\"MONTHS WITH 31 DAYS: Yes, Checked\")\n",
        "    even(dt)\n",
        "  else:\n",
        "    print(\"MONTHS WITH 31 DAYS: No Checked\")\n",
        "\n",
        "\n",
        "def month(dt):\n",
        "    if (0 < dt[1] <= 12):\n",
        "      print(\"WITHIN MONTHS: Yes, Checked\")\n",
        "      odd(dt)\n",
        "    else:\n",
        "      print(\"WITHIN MONTHS: No, Checked\")\n",
        "\n",
        "\n",
        "def leap(dt):\n",
        "    if (dt[2]%4 == 0 and dt[2]%100 != 0):\n",
        "      print(\"LEAP YEAR: Yes, Checked\")\n",
        "    else:\n",
        "      print(\"LEAP YEAR: No, Checked\")\n",
        "    month(dt)\n",
        "    \n",
        "  \n",
        "\n",
        "def year(dt):\n",
        "  if (1000 < dt[2]):\n",
        "    print(\"VALID YEAR: Yes, Checked\")\n",
        "  else:\n",
        "    print(\"VALID YEAR: No, Checked\")\n",
        "  leap(dt)\n",
        "\n",
        "\n",
        "def check(dt):\n",
        "  dt = dt.split(\"/\")\n",
        "  dt[0] = int(dt[0])\n",
        "  dt[1] = int(dt[1])\n",
        "  dt[2] = int(dt[2])\n",
        "  \n",
        "  year(dt)"
      ],
      "execution_count": 21,
      "outputs": []
    },
    {
      "cell_type": "code",
      "metadata": {
        "id": "qFIV_O9gvPfW",
        "colab": {
          "base_uri": "https://localhost:8080/"
        },
        "outputId": "f063e36d-0587-4c94-b709-6d9f090f3268"
      },
      "source": [
        "def main():\n",
        "  check(dt)\n",
        "\n",
        "if __name__ == \"__main__\":\n",
        "  main()"
      ],
      "execution_count": 22,
      "outputs": [
        {
          "output_type": "stream",
          "name": "stdout",
          "text": [
            "VALID YEAR: Yes, Checked\n",
            "LEAP YEAR: Yes, Checked\n",
            "WITHIN MONTHS: Yes, Checked\n",
            "MONTHS WITH 31 DAYS: No Checked\n"
          ]
        }
      ]
    },
    {
      "cell_type": "markdown",
      "metadata": {
        "id": "hnRp_L7GGofg"
      },
      "source": [
        "### Python Program to Compute Simple Interest Given all the Required Values"
      ]
    },
    {
      "cell_type": "code",
      "metadata": {
        "colab": {
          "base_uri": "https://localhost:8080/"
        },
        "id": "PO5mRzYXGpgC",
        "outputId": "f7445602-5875-4926-a97d-2b93c5f65b81"
      },
      "source": [
        "p = float(input(\"Enter Principle Amount: \"))\n",
        "r = float(input(\"Enter Rate of Interest (in %): \"))\n",
        "t = float(input(\"Enter Time for Interest (in Years): \"))"
      ],
      "execution_count": 25,
      "outputs": [
        {
          "name": "stdout",
          "output_type": "stream",
          "text": [
            "Enter Principle Amount: 10000\n",
            "Enter Rate of Interest (in %): 3.5\n",
            "Enter Time for Interest (in Years): 2\n"
          ]
        }
      ]
    },
    {
      "cell_type": "code",
      "metadata": {
        "id": "8rkVvDS-HiHg"
      },
      "source": [
        "def si(p, r, t):\n",
        "  return p*r*t/100"
      ],
      "execution_count": 26,
      "outputs": []
    },
    {
      "cell_type": "code",
      "metadata": {
        "colab": {
          "base_uri": "https://localhost:8080/"
        },
        "id": "o6qMfh_MHiKz",
        "outputId": "8bdafed1-d082-4b68-f87b-7357d619ade2"
      },
      "source": [
        "def main():\n",
        "  print(\"Simple Interest (S.I): \", si(p, r, t))\n",
        "\n",
        "if __name__ == \"__main__\":\n",
        "  main()"
      ],
      "execution_count": 27,
      "outputs": [
        {
          "output_type": "stream",
          "name": "stdout",
          "text": [
            "Simple Interest (S.I):  700.0\n"
          ]
        }
      ]
    },
    {
      "cell_type": "markdown",
      "metadata": {
        "id": "937Z-P32IQNl"
      },
      "source": [
        "### Python Program to Check Whether a Given Year is a Leap Year"
      ]
    },
    {
      "cell_type": "code",
      "metadata": {
        "colab": {
          "base_uri": "https://localhost:8080/"
        },
        "id": "fqxiYaHVIUMj",
        "outputId": "81c0dca1-2294-49f4-eaaf-72c99209ff4e"
      },
      "source": [
        "n = int(input(\"Enter a YEAR: \"))"
      ],
      "execution_count": 33,
      "outputs": [
        {
          "name": "stdout",
          "output_type": "stream",
          "text": [
            "Enter a YEAR: 2004\n"
          ]
        }
      ]
    },
    {
      "cell_type": "code",
      "metadata": {
        "id": "edZ-NxCbIUOz"
      },
      "source": [
        "def year(n):\n",
        "  if n%4 == 0 and n%100 != 400:\n",
        "    return \"LEAP YEAR\"\n",
        "  else:\n",
        "    return \"NOT a LEAP YEAR\""
      ],
      "execution_count": 40,
      "outputs": []
    },
    {
      "cell_type": "code",
      "metadata": {
        "colab": {
          "base_uri": "https://localhost:8080/"
        },
        "id": "DPXxce6RIUSt",
        "outputId": "03df8aab-0f90-4fb2-babf-f368f574fae9"
      },
      "source": [
        "def main():\n",
        "  print(\"YEAR - {} :: {}\".format(n, year(n)))\n",
        "\n",
        "if __name__ == \"__main__\":\n",
        "  main()"
      ],
      "execution_count": 41,
      "outputs": [
        {
          "output_type": "stream",
          "name": "stdout",
          "text": [
            "YEAR - 2004 :: LEAP YEAR\n"
          ]
        }
      ]
    },
    {
      "cell_type": "markdown",
      "metadata": {
        "id": "ekqpnlkL7uw4"
      },
      "source": [
        "### Python Program to Read Height in Centimeters and then Convert the Height to Feet and Inches"
      ]
    },
    {
      "cell_type": "code",
      "metadata": {
        "colab": {
          "base_uri": "https://localhost:8080/"
        },
        "id": "Samj21EV7t9K",
        "outputId": "1198213c-9a64-4901-db8c-7f2742578a59"
      },
      "source": [
        "h = float(input(\"Enter HEIGHT (cm): \"))"
      ],
      "execution_count": 2,
      "outputs": [
        {
          "name": "stdout",
          "output_type": "stream",
          "text": [
            "Enter HEIGHT (cm): 10\n"
          ]
        }
      ]
    },
    {
      "cell_type": "code",
      "metadata": {
        "id": "38-03-Yp7x87"
      },
      "source": [
        "def convert(h):\n",
        "  return h/30.48, h*0.39370078740157"
      ],
      "execution_count": 3,
      "outputs": []
    },
    {
      "cell_type": "code",
      "metadata": {
        "colab": {
          "base_uri": "https://localhost:8080/"
        },
        "id": "UoERj2Ji7yEE",
        "outputId": "2ad83b62-b66b-4a2a-a4e4-f4af5e482775"
      },
      "source": [
        "def main():\n",
        "  f, i = convert(h)\n",
        "  print(\"HEIGHT (cm) : {:.2f} :: HEIGHT (feet) : {:.2f} :: HEIGHT (inches) : {:.2f}\".format(h, f, i))\n",
        "\n",
        "if __name__ == \"__main__\":\n",
        "  main()"
      ],
      "execution_count": 11,
      "outputs": [
        {
          "output_type": "stream",
          "name": "stdout",
          "text": [
            "HEIGHT (cm) : 10.00 :: HEIGHT (feet) : 0.33 :: HEIGHT (inches) : 3.94\n"
          ]
        }
      ]
    },
    {
      "cell_type": "markdown",
      "metadata": {
        "id": "4V6kRrHi90oD"
      },
      "source": [
        "### Python Program to Take the Temperature in Celcius and Covert it to Farenheit"
      ]
    },
    {
      "cell_type": "code",
      "metadata": {
        "colab": {
          "base_uri": "https://localhost:8080/"
        },
        "id": "71fqFU6Y91Xj",
        "outputId": "48e605b8-48b5-487f-d91d-f0988d2a3b11"
      },
      "source": [
        "tc = float(input(\"Enter TEMPERATURE (in Celcius): \"))"
      ],
      "execution_count": 12,
      "outputs": [
        {
          "name": "stdout",
          "output_type": "stream",
          "text": [
            "Enter TEMPERATURE (in Celcius): 100\n"
          ]
        }
      ]
    },
    {
      "cell_type": "code",
      "metadata": {
        "id": "wABuUg6V91aa"
      },
      "source": [
        "def convert(tc):\n",
        "  return (tc*1.8) + 32"
      ],
      "execution_count": 13,
      "outputs": []
    },
    {
      "cell_type": "code",
      "metadata": {
        "colab": {
          "base_uri": "https://localhost:8080/"
        },
        "id": "EbTtxjlb91d9",
        "outputId": "c227de22-e195-4669-a98a-c5c70dde840f"
      },
      "source": [
        "def main():\n",
        "  print(\"TEMPERATURE (C) : {:.2f} :: TEMPERATURE (F) : {:.2f}\".format(tc, convert(tc)))\n",
        "\n",
        "if __name__ == \"__main__\":\n",
        "  main()"
      ],
      "execution_count": 14,
      "outputs": [
        {
          "output_type": "stream",
          "name": "stdout",
          "text": [
            "TEMPERATURE (C) : 100.00 :: TEMPERATURE (F) : 212.00\n"
          ]
        }
      ]
    },
    {
      "cell_type": "markdown",
      "metadata": {
        "id": "yEDpVkZUAC_o"
      },
      "source": [
        "### Python Program to Compute Prime Factors of an Integer"
      ]
    },
    {
      "cell_type": "code",
      "metadata": {
        "colab": {
          "base_uri": "https://localhost:8080/"
        },
        "id": "y0FAsUK9AD1D",
        "outputId": "c248fb76-a2d1-4e48-813d-cabdeed5890d"
      },
      "source": [
        "n = int(input(\"Enter an integer: \"))"
      ],
      "execution_count": 29,
      "outputs": [
        {
          "name": "stdout",
          "output_type": "stream",
          "text": [
            "Enter an integer: 99\n"
          ]
        }
      ]
    },
    {
      "cell_type": "code",
      "metadata": {
        "id": "fiAjg9LCAD3u"
      },
      "source": [
        "def pf(n):\n",
        "  prime = [i for i in range(2, n)]\n",
        "  for i in prime:\n",
        "    for k in prime:\n",
        "      if((i!=k) and (k%i==0)):\n",
        "        prime.remove(k)\n",
        "    \n",
        "  fact = []\n",
        "  for i in prime:\n",
        "    if n%i==0:\n",
        "      fact.append(i)\n",
        "\n",
        "  return fact"
      ],
      "execution_count": 30,
      "outputs": []
    },
    {
      "cell_type": "code",
      "metadata": {
        "colab": {
          "base_uri": "https://localhost:8080/"
        },
        "id": "0AhY4r3BAD7H",
        "outputId": "0a94846d-17ee-4c03-c845-92395b1ccf1c"
      },
      "source": [
        "def main():\n",
        "  print(\"PRIME FACTORS of {} : {}\".format(n, pf(n)))\n",
        "  \n",
        "if __name__ == \"__main__\":\n",
        "  main()"
      ],
      "execution_count": 31,
      "outputs": [
        {
          "output_type": "stream",
          "name": "stdout",
          "text": [
            "PRIME FACTORS of 99 : [3, 11]\n"
          ]
        }
      ]
    },
    {
      "cell_type": "markdown",
      "metadata": {
        "id": "ggJqkIHbRIEH"
      },
      "source": [
        "### Python Program to Generate all the Divisors of an Integer"
      ]
    },
    {
      "cell_type": "code",
      "metadata": {
        "id": "XFe0R90DROMc"
      },
      "source": [
        ""
      ],
      "execution_count": null,
      "outputs": []
    },
    {
      "cell_type": "code",
      "metadata": {
        "id": "f9rbAyw5ROPw"
      },
      "source": [
        ""
      ],
      "execution_count": null,
      "outputs": []
    },
    {
      "cell_type": "code",
      "metadata": {
        "id": "b6RFr6Crb-cD"
      },
      "source": [
        "\n",
        "Python Program to Print Table of a Given Number\n",
        "Python Program to Print Sum of Negative Numbers, Positive Even Numbers and Positive Odd numbers in a List\n",
        "Python Program to Print Largest Even and Largest Odd Number in a List\n",
        "Python Program to Form an Integer that has the Number of Digits at Ten's Place and the Least Significant Digit of the Entered Integer at One's Place\n",
        "Python Program to Find Those Numbers which are Divisible by 7 and Multiple of 5 in a Given Range of Numbers\n",
        "Python Program to Check if a Number is an Armstrong Number\n",
        "Python Program to Print the Pascal's triangle for n number of rows given by the user\n",
        "Python Program to Check if a Number is a Perfect Number\n",
        "Python Program to Check if a Number is a Strong Number\n",
        "Python Program to Find the LCM of Two Numbers\n",
        "Python Program to Find the GCD of Two Numbers\n",
        "Python Program to Compute a Polynomial Equation given that the Coefficients of the Polynomial are stored in a List\n",
        "Python Program to Check If Two Numbers are Amicable Numbers\n",
        "Python Program to Find the Area of a Triangle Given All Three Sides\n",
        "Python Program to Find the Gravitational Force Acting Between Two Objects\n",
        "Python Program to Check if a Number is a Prime Number\n",
        "Python Program to Print all the Prime Numbers within a Given Range\n",
        "Python Program to Print Numbers in a Range (1,upper) Without Using any Loops\n",
        "Python Program to Find the Sum of Sine Series\n",
        "Python Program to Find the Sum of Cosine Series\n",
        "Python Program to Find the Sum of First N Natural Numbers\n",
        "Python Program to Find the Sum of the Series: 1 + 1/2 + 1/3 + ….. + 1/N\n",
        "Python Program to Find the Sum of the Series: 1 + x^2/2 + x^3/3 + … x^n/n\n",
        "Python Program to Compute the Value of Euler's Number e. Use the Formula: e = 1 + 1/1! + 1/2! + …… 1/n!\n",
        "Python Program to Determine all Pythagorean Triplets in the Range\n",
        "Python Program to Search the Number of Times a Particular Number Occurs in a List\n",
        "Python Program to test Collatz Conjecture for a Given Number\n",
        "Python Program to Count Set Bits in a Number\n",
        "Python Program to Find Whether a Number is a Power of Two\n",
        "Python Program to Clear the Rightmost Set Bit of a Number\n",
        "Python Program to Generate Gray Codes using Recursion\n",
        "Python Program to Convert Gray Code to Binary\n",
        "Python Program to Convert Binary to Gray Code"
      ],
      "execution_count": null,
      "outputs": []
    },
    {
      "cell_type": "markdown",
      "metadata": {
        "id": "yVChrl_hXT0s"
      },
      "source": [
        "# List"
      ]
    },
    {
      "cell_type": "code",
      "metadata": {
        "id": "NeuMj6GQcBy4"
      },
      "source": [
        "Python Program to Find the Largest Number in a List\n",
        "Python Program to Find the Second Largest Number in a List\n",
        "Python Program to Put Even and Odd elements in a List into Two Different Lists\n",
        "Python Program to Merge Two Lists and Sort it\n",
        "Python Program to Sort the List According to the Second Element in Sublist\n",
        "Python Program to Find the Second Largest Number in a List Using Bubble Sort\n",
        "Python Program to Sort a List According to the Length of the Elements\n",
        "Python Program to Find the Union of two Lists\n",
        "Python Program to Find the Intersection of Two Lists\n",
        "Python Program to Create a List of Tuples with the First Element as the Number and Second Element as the Square of the Number\n",
        "Python Program to Find all Numbers in a Range which are Perfect Squares and Sum of all Digits in the Number is Less than 10\n",
        "Python Program to Find the Cumulative Sum of a List where the ith Element is the Sum of the First i+1 Elements From The Original List\n",
        "Python Program to Generate Random Numbers from 1 to 20 and Append Them to the List\n",
        "Python program to Sort a List of Tuples in Increasing Order by the Last Element in Each Tuple\n",
        "Python Program to Swap the First and Last Value of a List\n",
        "Python Program to Remove the Duplicate Items from a List\n",
        "Python Program to Read a List of Words and Return the Length of the Longest One\n",
        "Python Program to Remove the ith Occurrence of the Given Word in a List where Words can Repeat\n",
        "Python Program to Remove All Tuples in a List of Tuples with the USN Outside the Given Range\n",
        "Python Program to solve Maximum Subarray Problem using Divide and Conquer\n",
        "Python Program to solve Maximum Subarray Problem using Kadane’s Algorithm\n",
        "Python Program to Find Element Occurring Odd Number of Times in a List"
      ],
      "execution_count": null,
      "outputs": []
    },
    {
      "cell_type": "markdown",
      "metadata": {
        "id": "-ZAhxHFoXXHJ"
      },
      "source": [
        "# String"
      ]
    },
    {
      "cell_type": "code",
      "metadata": {
        "id": "qB96nWVecEWu"
      },
      "source": [
        "Python Program to Replace all Occurrences of ‘a’ with $ in a String\n",
        "Python Program to Remove the nth Index Character from a Non-Empty String\n",
        "Python Program to Detect if Two Strings are Anagrams\n",
        "Python Program to Form a New String where the First Character and the Last Character have been Exchanged\n",
        "Python Program to Count the Number of Vowels in a String\n",
        "Python Program to Take in a String and Replace Every Blank Space with Hyphen\n",
        "Python Program to Calculate the Length of a String Without Using a Library Function\n",
        "Python Program to Remove the Characters of Odd Index Values in a String\n",
        "Python Program to Calculate the Number of Words and the Number of Characters Present in a String\n",
        "Python Program to Take in Two Strings and Display the Larger String without Using Built-in Functions\n",
        "Python Program to Count Number of Lowercase Characters in a String\n",
        "Python Program to Check if a String is a Palindrome or Not\n",
        "Python Program to Calculate the Number of Upper Case Letters and Lower Case Letters in a String\n",
        "Python Program to Check if a String is a Pangram or Not\n",
        "Python Program to Accept a Hyphen Separated Sequence of Words as Input and Print the Words in a Hyphen-Separated Sequence after Sorting them Alphabetically\n",
        "Python Program to Calculate the Number of Digits and Letters in a String\n",
        "Python Program to Form a New String Made of the First 2 and Last 2 characters From a Given String\n",
        "Python Program to Count the Occurrences of Each Word in a Given String Sentence\n",
        "Python Program to Check if a Substring is Present in a Given String\n",
        "Python Program to Print All Permutations of a String in Lexicographic Order without Recursion\n",
        "Python Program to Print All Permutations of a String in Lexicographic Order using Recursion"
      ],
      "execution_count": null,
      "outputs": []
    },
    {
      "cell_type": "markdown",
      "metadata": {
        "id": "tKmMSVr3Xbge"
      },
      "source": [
        "# Dictionary"
      ]
    },
    {
      "cell_type": "code",
      "metadata": {
        "id": "FMGL9klLcOlO"
      },
      "source": [
        "Python Program to Add a Key-Value Pair to the Dictionary\n",
        "Python Program to Concatenate Two Dictionaries Into One\n",
        "Python Program to Check if a Given Key Exists in a Dictionary or Not\n",
        "Python Program to Generate a Dictionary that Contains Numbers (between 1 and n) in the Form (x,x*x).\n",
        "Python Program to Sum All the Items in a Dictionary\n",
        "Python Program to Multiply All the Items in a Dictionary\n",
        "Python Program to Remove the Given Key from a Dictionary\n",
        "Python Program to Form a Dictionary from an Object of a Class\n",
        "Python Program to Map Two Lists into a Dictionary\n",
        "Python Program to Count the Frequency of Words Appearing in a String Using a Dictionary\n",
        "Python Program to Create a Dictionary with Key as First Character and Value as Words Starting with that Character"
      ],
      "execution_count": null,
      "outputs": []
    },
    {
      "cell_type": "markdown",
      "metadata": {
        "id": "wapmg6voXfX1"
      },
      "source": [
        "# Sets\n",
        "\n"
      ]
    },
    {
      "cell_type": "code",
      "metadata": {
        "id": "34GghJ1mcS9k"
      },
      "source": [
        "Python Program to Count the Number of Vowels Present in a String using Sets\n",
        "Python Program to Check Common Letters in Two Input Strings\n",
        "Python Program that Displays which Letters are in the First String but not in the Second\n",
        "Python Program that Displays which Letters are Present in Both the Strings\n",
        "Python Program that Displays which Letters are in the Two Strings but not in Both"
      ],
      "execution_count": null,
      "outputs": []
    },
    {
      "cell_type": "markdown",
      "metadata": {
        "id": "yHgr6jvvXiTl"
      },
      "source": [
        "# Recursions\n",
        "\n"
      ]
    },
    {
      "cell_type": "code",
      "metadata": {
        "id": "WaA8uVvFcRUT"
      },
      "source": [
        "Python Program to Determine Whether a Given Number is Even or Odd Recursively\n",
        "Python Program to Determine How Many Times a Given Letter Occurs in a String Recursively\n",
        "Python Program to Find the Fibonacci Series Using Recursion\n",
        "Python Program to Find the Factorial of a Number Using Recursion\n",
        "Python Program to Find the Sum of Elements in a List Recursively\n",
        "Python Program to Find the Binary Equivalent of a Number Recursively\n",
        "Python Program to Find the Sum of the Digits of the Number Recursively\n",
        "Python Program to Find the LCM of Two Numbers Using Recursion\n",
        "Python Program to Find the GCD of Two Numbers Using Recursion\n",
        "Python Program to Find if a Number is Prime or Not Prime Using Recursion\n",
        "Python Program to Find the Product of two Numbers Using Recursion\n",
        "Python Program to Find the Power of a Number Using Recursion\n",
        "Python Program to Check Whether a String is a Palindrome or not Using Recursion\n",
        "Python Program to Reverse a String Using Recursion\n",
        "Python Program to Flatten a Nested List using Recursion\n",
        "Python Program to Find the Total Sum of a Nested List Using Recursion\n",
        "Python Program to Find the Length of a List Using Recursion"
      ],
      "execution_count": null,
      "outputs": []
    },
    {
      "cell_type": "markdown",
      "metadata": {
        "id": "Jds1OgibXmJv"
      },
      "source": [
        "# Without Recursions\n",
        "\n"
      ]
    },
    {
      "cell_type": "code",
      "metadata": {
        "id": "6kp4MvIacVq7"
      },
      "source": [
        "Python Program to Find the Fibonacci Series without Using Recursion\n",
        "Python Program to find the factorial of a number without recursion\n",
        "Python Program to Flatten a List without using Recursion\n",
        "Python Program to Reverse a String without using Recursion\n",
        "Python Program to Find the Binary Equivalent of a Number without Using Recursion\n",
        "Python Program to Find All Numbers which are Odd and Palindromes Between a Range of Numbers without using Recursion\n",
        "Python Program to Find the Sum of Digits in a Number without Recursion"
      ],
      "execution_count": null,
      "outputs": []
    },
    {
      "cell_type": "markdown",
      "metadata": {
        "id": "ITYBJ3TuXrAm"
      },
      "source": [
        "# File Handling\n",
        "\n"
      ]
    },
    {
      "cell_type": "code",
      "metadata": {
        "id": "il0V4g8kcXlm"
      },
      "source": [
        "Python Program to Read the Contents of a File\n",
        "Python Program to Count the Number of Words in a Text File\n",
        "Python Program to Count the Number of Lines in a Text File\n",
        "Python Program to Read a String from the User and Append it into a File\n",
        "Python Program to Count the Occurrences of a Word in a Text File\n",
        "Python Program to Copy the Contents of One File into Another\n",
        "Python Program that Reads a Text File and Counts the Number of Times a Certain Letter Appears in the Text File\n",
        "Python Program to Read a Text File and Print all the Numbers Present in the Text File\n",
        "Python Program to Append the Contents of One File to Another File\n",
        "Python Program to Count the Number of Blank Spaces in a Text File\n",
        "Python Program to Read a File and Capitalize the First Letter of Every Word in the File\n",
        "Python Program to Read the Contents of a File in Reverse Order"
      ],
      "execution_count": null,
      "outputs": []
    },
    {
      "cell_type": "markdown",
      "metadata": {
        "id": "GZnnNaZlXwwa"
      },
      "source": [
        "# Class and Objects\n",
        "\n"
      ]
    },
    {
      "cell_type": "code",
      "metadata": {
        "id": "7DSpoYcncZVd"
      },
      "source": [
        "Python Program to Find the Area of a Rectangle Using Classes\n",
        "Python Program to Append, Delete and Display Elements of a List Using Classes\n",
        "Python Program to Create a Class and Compute the Area and the Perimeter of the Circle\n",
        "Python Program to Create a Class which Performs Basic Calculator Operations\n",
        "Python Program to Create a Class in which One Method Accepts a String from the User and Another Prints it\n",
        "Python Program to Create a Class and Get All Possible Subsets from a Set of Distinct Integers"
      ],
      "execution_count": null,
      "outputs": []
    },
    {
      "cell_type": "markdown",
      "metadata": {
        "id": "kQwlpWZyXUTi"
      },
      "source": [
        "# Linked Lists\n",
        "\n",
        "https://www.sanfoundry.com/python-programming-examples-linked-lists/"
      ]
    },
    {
      "cell_type": "markdown",
      "metadata": {
        "id": "I277B31BYQCJ"
      },
      "source": [
        "# Stack and Queues\n",
        "\n",
        "https://www.sanfoundry.com/python-programming-examples-stacks-queues/"
      ]
    },
    {
      "cell_type": "markdown",
      "metadata": {
        "id": "37YTSFxlYVsD"
      },
      "source": [
        "# Searching and Sorting\n",
        "\n",
        "https://www.sanfoundry.com/python-programming-examples-searching-sorting/"
      ]
    },
    {
      "cell_type": "markdown",
      "metadata": {
        "id": "EEsSznqpYZ2c"
      },
      "source": [
        "# Trees\n",
        "\n",
        "https://www.sanfoundry.com/python-programming-examples-trees/"
      ]
    },
    {
      "cell_type": "markdown",
      "metadata": {
        "id": "gSA2DsOhYeqN"
      },
      "source": [
        "# Heap\n",
        "\n"
      ]
    },
    {
      "cell_type": "code",
      "metadata": {
        "id": "6PBtwimlcbjy"
      },
      "source": [
        "Python Program to Implement Binary Heap\n",
        "Python Program to Implement Binomial Tree\n",
        "Python Program to Implement Binomial Heap\n",
        "Python Program to Implement Fibonacci Heap\n",
        "Python Program to Implement Ternary Heap\n",
        "Python Program to Implement D-ary-Heap"
      ],
      "execution_count": null,
      "outputs": []
    },
    {
      "cell_type": "markdown",
      "metadata": {
        "id": "85Do9Bz0YfuT"
      },
      "source": [
        "# Graphs\n",
        "\n",
        "https://www.sanfoundry.com/python-programming-examples-graphs/"
      ]
    },
    {
      "cell_type": "markdown",
      "metadata": {
        "id": "UVx_It12YiBk"
      },
      "source": [
        "# Games\n",
        "\n",
        "\n"
      ]
    },
    {
      "cell_type": "code",
      "metadata": {
        "id": "rKvSRp_9cdW-"
      },
      "source": [
        "Python Program to Implement Tower of Hanoi\n",
        "Python Program to Solve n-Queen Problem without Recursion\n",
        "Python Program to Solve the Celebrity Problem\n",
        "Python Program to Solve n-Queen Problem with Recursion"
      ],
      "execution_count": null,
      "outputs": []
    },
    {
      "cell_type": "markdown",
      "metadata": {
        "id": "ePSdkjIhYlZs"
      },
      "source": [
        "# Greedy Algorithms\n",
        "\n"
      ]
    },
    {
      "cell_type": "code",
      "metadata": {
        "id": "IV8mV6o5cfQ0"
      },
      "source": [
        "Python Program to Solve Fractional Knapsack Problem using Greedy Algorithm\n",
        "Python Program to Solve Interval Scheduling Problem using Greedy Algorithm\n",
        "Python Program to Find the Smallest Set of Unit-Length Closed Intervals that Contains All Points using Greedy Algorithm\n",
        "Python Program to Minimize Lateness using Greedy Algorithm"
      ],
      "execution_count": null,
      "outputs": []
    },
    {
      "cell_type": "markdown",
      "metadata": {
        "id": "EYR4v8iYYsAo"
      },
      "source": [
        "# Dynamic Programming\n",
        "\n",
        "\n"
      ]
    },
    {
      "cell_type": "code",
      "metadata": {
        "id": "cSDaTJe1chR0"
      },
      "source": [
        "Python Program to Solve Rod Cutting Problem using Dynamic Programming with Memoization\n",
        "Python Program to Solve Rod Cutting Problem using Dynamic Programming with Bottom-Up Approach\n",
        "Python Program to Print nth Fibonacci Number using Dynamic Programming with Memoization\n",
        "Python Program to Print nth Fibonacci Number using Dynamic Programming with Bottom-Up Approach\n",
        "Python Program to Solve Matrix-Chain Multiplication using Dynamic Programming with Memoization\n",
        "Python Program to Solve Matrix-Chain Multiplication using Dynamic Programming with Bottom-Up Approach\n",
        "Python Program to Find Longest Common Subsequence using Dynamic Programming with Memoization\n",
        "Python Program to Find Longest Common Subsequence using Dynamic Programming with Bottom-Up Approach\n",
        "Python Program to Find Longest Common Substring using Dynamic Programming with Memoization\n",
        "Python Program to Find Longest Common Substring using Dynamic Programming with Bottom-Up Approach\n",
        "Python Program to Solve 0-1 Knapsack Problem using Dynamic Programming with Bottom-Up Approach\n",
        "Python Program to Solve 0-1 Knapsack Problem using Dynamic Programming with Memoization\n",
        "Python Program to Count all Paths in a Grid with Holes using Dynamic Programming with Memoization\n",
        "Python Program to Count all Paths in a Grid with Holes using Dynamic Programming with Bottom-Up Approach"
      ],
      "execution_count": null,
      "outputs": []
    }
  ]
}